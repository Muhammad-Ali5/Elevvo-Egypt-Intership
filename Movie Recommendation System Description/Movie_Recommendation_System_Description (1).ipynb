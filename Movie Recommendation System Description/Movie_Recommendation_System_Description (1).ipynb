{
  "nbformat": 4,
  "nbformat_minor": 0,
  "metadata": {
    "colab": {
      "provenance": []
    },
    "kernelspec": {
      "name": "python3",
      "display_name": "Python 3"
    },
    "language_info": {
      "name": "python"
    }
  },
  "cells": [
    {
      "cell_type": "code",
      "source": [
        "# -----------------------------\n",
        "# MODULE 0: Unzip Dataset\n",
        "# -----------------------------\n",
        "\n",
        "import zipfile\n",
        "import os\n",
        "\n",
        "zip_path = \"/content/archive_4.zip\"     # your zip file\n",
        "extract_path = \"/content/archive_4\"     # where to extract\n",
        "\n",
        "# Unzip the file\n",
        "with zipfile.ZipFile(zip_path, 'r') as zip_ref:\n",
        "    zip_ref.extractall(extract_path)\n",
        "\n",
        "print(\" File unzipped successfully!\")\n",
        "\n",
        "# Show extracted contents\n",
        "print(\"\\nExtracted folders and files:\")\n",
        "for root, dirs, files in os.walk(extract_path):\n",
        "    print(f\"Folder: {root}\")\n",
        "    for name in files:\n",
        "        print(f\"  └── {name}\")\n"
      ],
      "metadata": {
        "colab": {
          "base_uri": "https://localhost:8080/"
        },
        "id": "GpYJ2T-v7XJg",
        "outputId": "5fe84ee7-750d-48d4-f953-87d6ee6b28bf"
      },
      "execution_count": 1,
      "outputs": [
        {
          "output_type": "stream",
          "name": "stdout",
          "text": [
            " File unzipped successfully!\n",
            "\n",
            "Extracted folders and files:\n",
            "Folder: /content/archive_4\n",
            "Folder: /content/archive_4/ml-100k\n",
            "  └── ua.test\n",
            "  └── u.info\n",
            "  └── u1.test\n",
            "  └── u5.base\n",
            "  └── u.user\n",
            "  └── u4.base\n",
            "  └── u.occupation\n",
            "  └── mku.sh\n",
            "  └── u.data\n",
            "  └── u3.test\n",
            "  └── ub.test\n",
            "  └── README\n",
            "  └── ub.base\n",
            "  └── ua.base\n",
            "  └── u3.base\n",
            "  └── u.item\n",
            "  └── u2.test\n",
            "  └── u4.test\n",
            "  └── u1.base\n",
            "  └── allbut.pl\n",
            "  └── u5.test\n",
            "  └── u.genre\n",
            "  └── u2.base\n"
          ]
        }
      ]
    },
    {
      "cell_type": "code",
      "source": [
        "# -----------------------------\n",
        "# MODULE 1: Import Libraries\n",
        "# -----------------------------\n",
        "import pandas as pd\n",
        "import numpy as np\n",
        "from sklearn.metrics.pairwise import cosine_similarity\n",
        "from sklearn.metrics import precision_score\n",
        "import pickle\n"
      ],
      "metadata": {
        "id": "IR-_86Kt7XGg"
      },
      "execution_count": 2,
      "outputs": []
    },
    {
      "cell_type": "code",
      "execution_count": 19,
      "metadata": {
        "colab": {
          "base_uri": "https://localhost:8080/",
          "height": 258
        },
        "id": "5hsyMjSU6af5",
        "outputId": "0ca373ac-1789-4d68-b37f-fd015fd0e815"
      },
      "outputs": [
        {
          "output_type": "stream",
          "name": "stdout",
          "text": [
            " Dataset loaded successfully!\n",
            "\n",
            " First 5 rows:\n"
          ]
        },
        {
          "output_type": "execute_result",
          "data": {
            "text/plain": [
              "   user_id  movie_id  rating  timestamp                       title\n",
              "0      196       242       3  881250949                Kolya (1996)\n",
              "1      186       302       3  891717742    L.A. Confidential (1997)\n",
              "2       22       377       1  878887116         Heavyweights (1994)\n",
              "3      244        51       2  880606923  Legends of the Fall (1994)\n",
              "4      166       346       1  886397596         Jackie Brown (1997)"
            ],
            "text/html": [
              "\n",
              "  <div id=\"df-96fcad6a-098f-4626-99e1-c06864348933\" class=\"colab-df-container\">\n",
              "    <div>\n",
              "<style scoped>\n",
              "    .dataframe tbody tr th:only-of-type {\n",
              "        vertical-align: middle;\n",
              "    }\n",
              "\n",
              "    .dataframe tbody tr th {\n",
              "        vertical-align: top;\n",
              "    }\n",
              "\n",
              "    .dataframe thead th {\n",
              "        text-align: right;\n",
              "    }\n",
              "</style>\n",
              "<table border=\"1\" class=\"dataframe\">\n",
              "  <thead>\n",
              "    <tr style=\"text-align: right;\">\n",
              "      <th></th>\n",
              "      <th>user_id</th>\n",
              "      <th>movie_id</th>\n",
              "      <th>rating</th>\n",
              "      <th>timestamp</th>\n",
              "      <th>title</th>\n",
              "    </tr>\n",
              "  </thead>\n",
              "  <tbody>\n",
              "    <tr>\n",
              "      <th>0</th>\n",
              "      <td>196</td>\n",
              "      <td>242</td>\n",
              "      <td>3</td>\n",
              "      <td>881250949</td>\n",
              "      <td>Kolya (1996)</td>\n",
              "    </tr>\n",
              "    <tr>\n",
              "      <th>1</th>\n",
              "      <td>186</td>\n",
              "      <td>302</td>\n",
              "      <td>3</td>\n",
              "      <td>891717742</td>\n",
              "      <td>L.A. Confidential (1997)</td>\n",
              "    </tr>\n",
              "    <tr>\n",
              "      <th>2</th>\n",
              "      <td>22</td>\n",
              "      <td>377</td>\n",
              "      <td>1</td>\n",
              "      <td>878887116</td>\n",
              "      <td>Heavyweights (1994)</td>\n",
              "    </tr>\n",
              "    <tr>\n",
              "      <th>3</th>\n",
              "      <td>244</td>\n",
              "      <td>51</td>\n",
              "      <td>2</td>\n",
              "      <td>880606923</td>\n",
              "      <td>Legends of the Fall (1994)</td>\n",
              "    </tr>\n",
              "    <tr>\n",
              "      <th>4</th>\n",
              "      <td>166</td>\n",
              "      <td>346</td>\n",
              "      <td>1</td>\n",
              "      <td>886397596</td>\n",
              "      <td>Jackie Brown (1997)</td>\n",
              "    </tr>\n",
              "  </tbody>\n",
              "</table>\n",
              "</div>\n",
              "    <div class=\"colab-df-buttons\">\n",
              "\n",
              "  <div class=\"colab-df-container\">\n",
              "    <button class=\"colab-df-convert\" onclick=\"convertToInteractive('df-96fcad6a-098f-4626-99e1-c06864348933')\"\n",
              "            title=\"Convert this dataframe to an interactive table.\"\n",
              "            style=\"display:none;\">\n",
              "\n",
              "  <svg xmlns=\"http://www.w3.org/2000/svg\" height=\"24px\" viewBox=\"0 -960 960 960\">\n",
              "    <path d=\"M120-120v-720h720v720H120Zm60-500h600v-160H180v160Zm220 220h160v-160H400v160Zm0 220h160v-160H400v160ZM180-400h160v-160H180v160Zm440 0h160v-160H620v160ZM180-180h160v-160H180v160Zm440 0h160v-160H620v160Z\"/>\n",
              "  </svg>\n",
              "    </button>\n",
              "\n",
              "  <style>\n",
              "    .colab-df-container {\n",
              "      display:flex;\n",
              "      gap: 12px;\n",
              "    }\n",
              "\n",
              "    .colab-df-convert {\n",
              "      background-color: #E8F0FE;\n",
              "      border: none;\n",
              "      border-radius: 50%;\n",
              "      cursor: pointer;\n",
              "      display: none;\n",
              "      fill: #1967D2;\n",
              "      height: 32px;\n",
              "      padding: 0 0 0 0;\n",
              "      width: 32px;\n",
              "    }\n",
              "\n",
              "    .colab-df-convert:hover {\n",
              "      background-color: #E2EBFA;\n",
              "      box-shadow: 0px 1px 2px rgba(60, 64, 67, 0.3), 0px 1px 3px 1px rgba(60, 64, 67, 0.15);\n",
              "      fill: #174EA6;\n",
              "    }\n",
              "\n",
              "    .colab-df-buttons div {\n",
              "      margin-bottom: 4px;\n",
              "    }\n",
              "\n",
              "    [theme=dark] .colab-df-convert {\n",
              "      background-color: #3B4455;\n",
              "      fill: #D2E3FC;\n",
              "    }\n",
              "\n",
              "    [theme=dark] .colab-df-convert:hover {\n",
              "      background-color: #434B5C;\n",
              "      box-shadow: 0px 1px 3px 1px rgba(0, 0, 0, 0.15);\n",
              "      filter: drop-shadow(0px 1px 2px rgba(0, 0, 0, 0.3));\n",
              "      fill: #FFFFFF;\n",
              "    }\n",
              "  </style>\n",
              "\n",
              "    <script>\n",
              "      const buttonEl =\n",
              "        document.querySelector('#df-96fcad6a-098f-4626-99e1-c06864348933 button.colab-df-convert');\n",
              "      buttonEl.style.display =\n",
              "        google.colab.kernel.accessAllowed ? 'block' : 'none';\n",
              "\n",
              "      async function convertToInteractive(key) {\n",
              "        const element = document.querySelector('#df-96fcad6a-098f-4626-99e1-c06864348933');\n",
              "        const dataTable =\n",
              "          await google.colab.kernel.invokeFunction('convertToInteractive',\n",
              "                                                    [key], {});\n",
              "        if (!dataTable) return;\n",
              "\n",
              "        const docLinkHtml = 'Like what you see? Visit the ' +\n",
              "          '<a target=\"_blank\" href=https://colab.research.google.com/notebooks/data_table.ipynb>data table notebook</a>'\n",
              "          + ' to learn more about interactive tables.';\n",
              "        element.innerHTML = '';\n",
              "        dataTable['output_type'] = 'display_data';\n",
              "        await google.colab.output.renderOutput(dataTable, element);\n",
              "        const docLink = document.createElement('div');\n",
              "        docLink.innerHTML = docLinkHtml;\n",
              "        element.appendChild(docLink);\n",
              "      }\n",
              "    </script>\n",
              "  </div>\n",
              "\n",
              "\n",
              "    <div id=\"df-df19b9d5-b3e9-4119-98ae-0dc1529041b7\">\n",
              "      <button class=\"colab-df-quickchart\" onclick=\"quickchart('df-df19b9d5-b3e9-4119-98ae-0dc1529041b7')\"\n",
              "                title=\"Suggest charts\"\n",
              "                style=\"display:none;\">\n",
              "\n",
              "<svg xmlns=\"http://www.w3.org/2000/svg\" height=\"24px\"viewBox=\"0 0 24 24\"\n",
              "     width=\"24px\">\n",
              "    <g>\n",
              "        <path d=\"M19 3H5c-1.1 0-2 .9-2 2v14c0 1.1.9 2 2 2h14c1.1 0 2-.9 2-2V5c0-1.1-.9-2-2-2zM9 17H7v-7h2v7zm4 0h-2V7h2v10zm4 0h-2v-4h2v4z\"/>\n",
              "    </g>\n",
              "</svg>\n",
              "      </button>\n",
              "\n",
              "<style>\n",
              "  .colab-df-quickchart {\n",
              "      --bg-color: #E8F0FE;\n",
              "      --fill-color: #1967D2;\n",
              "      --hover-bg-color: #E2EBFA;\n",
              "      --hover-fill-color: #174EA6;\n",
              "      --disabled-fill-color: #AAA;\n",
              "      --disabled-bg-color: #DDD;\n",
              "  }\n",
              "\n",
              "  [theme=dark] .colab-df-quickchart {\n",
              "      --bg-color: #3B4455;\n",
              "      --fill-color: #D2E3FC;\n",
              "      --hover-bg-color: #434B5C;\n",
              "      --hover-fill-color: #FFFFFF;\n",
              "      --disabled-bg-color: #3B4455;\n",
              "      --disabled-fill-color: #666;\n",
              "  }\n",
              "\n",
              "  .colab-df-quickchart {\n",
              "    background-color: var(--bg-color);\n",
              "    border: none;\n",
              "    border-radius: 50%;\n",
              "    cursor: pointer;\n",
              "    display: none;\n",
              "    fill: var(--fill-color);\n",
              "    height: 32px;\n",
              "    padding: 0;\n",
              "    width: 32px;\n",
              "  }\n",
              "\n",
              "  .colab-df-quickchart:hover {\n",
              "    background-color: var(--hover-bg-color);\n",
              "    box-shadow: 0 1px 2px rgba(60, 64, 67, 0.3), 0 1px 3px 1px rgba(60, 64, 67, 0.15);\n",
              "    fill: var(--button-hover-fill-color);\n",
              "  }\n",
              "\n",
              "  .colab-df-quickchart-complete:disabled,\n",
              "  .colab-df-quickchart-complete:disabled:hover {\n",
              "    background-color: var(--disabled-bg-color);\n",
              "    fill: var(--disabled-fill-color);\n",
              "    box-shadow: none;\n",
              "  }\n",
              "\n",
              "  .colab-df-spinner {\n",
              "    border: 2px solid var(--fill-color);\n",
              "    border-color: transparent;\n",
              "    border-bottom-color: var(--fill-color);\n",
              "    animation:\n",
              "      spin 1s steps(1) infinite;\n",
              "  }\n",
              "\n",
              "  @keyframes spin {\n",
              "    0% {\n",
              "      border-color: transparent;\n",
              "      border-bottom-color: var(--fill-color);\n",
              "      border-left-color: var(--fill-color);\n",
              "    }\n",
              "    20% {\n",
              "      border-color: transparent;\n",
              "      border-left-color: var(--fill-color);\n",
              "      border-top-color: var(--fill-color);\n",
              "    }\n",
              "    30% {\n",
              "      border-color: transparent;\n",
              "      border-left-color: var(--fill-color);\n",
              "      border-top-color: var(--fill-color);\n",
              "      border-right-color: var(--fill-color);\n",
              "    }\n",
              "    40% {\n",
              "      border-color: transparent;\n",
              "      border-right-color: var(--fill-color);\n",
              "      border-top-color: var(--fill-color);\n",
              "    }\n",
              "    60% {\n",
              "      border-color: transparent;\n",
              "      border-right-color: var(--fill-color);\n",
              "    }\n",
              "    80% {\n",
              "      border-color: transparent;\n",
              "      border-right-color: var(--fill-color);\n",
              "      border-bottom-color: var(--fill-color);\n",
              "    }\n",
              "    90% {\n",
              "      border-color: transparent;\n",
              "      border-bottom-color: var(--fill-color);\n",
              "    }\n",
              "  }\n",
              "</style>\n",
              "\n",
              "      <script>\n",
              "        async function quickchart(key) {\n",
              "          const quickchartButtonEl =\n",
              "            document.querySelector('#' + key + ' button');\n",
              "          quickchartButtonEl.disabled = true;  // To prevent multiple clicks.\n",
              "          quickchartButtonEl.classList.add('colab-df-spinner');\n",
              "          try {\n",
              "            const charts = await google.colab.kernel.invokeFunction(\n",
              "                'suggestCharts', [key], {});\n",
              "          } catch (error) {\n",
              "            console.error('Error during call to suggestCharts:', error);\n",
              "          }\n",
              "          quickchartButtonEl.classList.remove('colab-df-spinner');\n",
              "          quickchartButtonEl.classList.add('colab-df-quickchart-complete');\n",
              "        }\n",
              "        (() => {\n",
              "          let quickchartButtonEl =\n",
              "            document.querySelector('#df-df19b9d5-b3e9-4119-98ae-0dc1529041b7 button');\n",
              "          quickchartButtonEl.style.display =\n",
              "            google.colab.kernel.accessAllowed ? 'block' : 'none';\n",
              "        })();\n",
              "      </script>\n",
              "    </div>\n",
              "\n",
              "    </div>\n",
              "  </div>\n"
            ],
            "application/vnd.google.colaboratory.intrinsic+json": {
              "type": "dataframe",
              "variable_name": "data",
              "summary": "{\n  \"name\": \"data\",\n  \"rows\": 100000,\n  \"fields\": [\n    {\n      \"column\": \"user_id\",\n      \"properties\": {\n        \"dtype\": \"number\",\n        \"std\": 266,\n        \"min\": 1,\n        \"max\": 943,\n        \"num_unique_values\": 943,\n        \"samples\": [\n          262,\n          136,\n          821\n        ],\n        \"semantic_type\": \"\",\n        \"description\": \"\"\n      }\n    },\n    {\n      \"column\": \"movie_id\",\n      \"properties\": {\n        \"dtype\": \"number\",\n        \"std\": 330,\n        \"min\": 1,\n        \"max\": 1682,\n        \"num_unique_values\": 1682,\n        \"samples\": [\n          1557,\n          808,\n          1618\n        ],\n        \"semantic_type\": \"\",\n        \"description\": \"\"\n      }\n    },\n    {\n      \"column\": \"rating\",\n      \"properties\": {\n        \"dtype\": \"number\",\n        \"std\": 1,\n        \"min\": 1,\n        \"max\": 5,\n        \"num_unique_values\": 5,\n        \"samples\": [\n          1,\n          5,\n          2\n        ],\n        \"semantic_type\": \"\",\n        \"description\": \"\"\n      }\n    },\n    {\n      \"column\": \"timestamp\",\n      \"properties\": {\n        \"dtype\": \"number\",\n        \"std\": 5343856,\n        \"min\": 874724710,\n        \"max\": 893286638,\n        \"num_unique_values\": 49282,\n        \"samples\": [\n          889728713,\n          888443306,\n          880605158\n        ],\n        \"semantic_type\": \"\",\n        \"description\": \"\"\n      }\n    },\n    {\n      \"column\": \"title\",\n      \"properties\": {\n        \"dtype\": \"category\",\n        \"num_unique_values\": 1664,\n        \"samples\": [\n          \"House Party 3 (1994)\",\n          \"Three Colors: White (1994)\",\n          \"Fish Called Wanda, A (1988)\"\n        ],\n        \"semantic_type\": \"\",\n        \"description\": \"\"\n      }\n    }\n  ]\n}"
            }
          },
          "metadata": {},
          "execution_count": 19
        }
      ],
      "source": [
        "# Load the ratings file (u.data)\n",
        "ratings = pd.read_csv(\n",
        "    \"/content/archive_4/ml-100k/u.data\",\n",
        "    sep='\\t',\n",
        "    names=['user_id', 'movie_id', 'rating', 'timestamp']\n",
        ")\n",
        "\n",
        "# Load the movies file (u.item)\n",
        "movies = pd.read_csv(\n",
        "    \"/content/archive_4/ml-100k/u.item\",\n",
        "    sep='|',\n",
        "    encoding='latin-1',\n",
        "    usecols=[0, 1],\n",
        "    names=['movie_id', 'title']\n",
        ")\n",
        "\n",
        "# Merge both DataFrames on movie_id\n",
        "data = pd.merge(ratings, movies, on='movie_id')\n",
        "\n",
        "print(\" Dataset loaded successfully!\")\n",
        "print(\"\\n First 5 rows:\")\n",
        "data.head()\n"
      ]
    },
    {
      "cell_type": "code",
      "source": [
        "# -----------------------------\n",
        "# MODULE 3: Create User-Item Matrix\n",
        "# -----------------------------\n",
        "user_movie_matrix = data.pivot_table(index='user_id', columns='title', values='rating')\n",
        "print(\" User-Item Matrix created!\")\n"
      ],
      "metadata": {
        "colab": {
          "base_uri": "https://localhost:8080/"
        },
        "id": "Ccx9lguE7aa_",
        "outputId": "214cb788-705e-46e7-9b00-ba4bf6e80f74"
      },
      "execution_count": 10,
      "outputs": [
        {
          "output_type": "stream",
          "name": "stdout",
          "text": [
            " User-Item Matrix created!\n"
          ]
        }
      ]
    },
    {
      "cell_type": "code",
      "source": [
        "# -----------------------------\n",
        "# MODULE 4: Compute User Similarity\n",
        "# -----------------------------\n",
        "# Replace NaN with 0 for similarity calculation\n",
        "user_movie_matrix_filled = user_movie_matrix.fillna(0)\n",
        "\n",
        "# Compute cosine similarity between users\n",
        "user_similarity = cosine_similarity(user_movie_matrix_filled)\n",
        "user_similarity_df = pd.DataFrame(user_similarity, index=user_movie_matrix.index, columns=user_movie_matrix.index)\n",
        "print(\" User Similarity Matrix computed!\")\n"
      ],
      "metadata": {
        "colab": {
          "base_uri": "https://localhost:8080/"
        },
        "id": "O9FVbUta7aYo",
        "outputId": "c03b0c16-2f1a-4b00-ce06-bfee24b5ab03"
      },
      "execution_count": 13,
      "outputs": [
        {
          "output_type": "stream",
          "name": "stdout",
          "text": [
            " User Similarity Matrix computed!\n"
          ]
        }
      ]
    },
    {
      "cell_type": "code",
      "source": [
        "# -----------------------------\n",
        "# MODULE 5: Recommend Movies\n",
        "# -----------------------------\n",
        "def recommend_movies(user_id, num_recommendations=5):\n",
        "    # Find similar users\n",
        "    similar_users = user_similarity_df[user_id].sort_values(ascending=False)[1:6]\n",
        "\n",
        "    # Get movies watched by similar users\n",
        "    similar_users_ratings = user_movie_matrix.loc[similar_users.index]\n",
        "\n",
        "    # Weighted average ratings\n",
        "    weighted_ratings = similar_users_ratings.T.dot(similar_users) / similar_users.sum()\n",
        "\n",
        "    # Remove movies the user has already rated\n",
        "    user_rated = user_movie_matrix.loc[user_id].dropna().index\n",
        "    recommendations = weighted_ratings.drop(user_rated, errors='ignore').sort_values(ascending=False)\n",
        "\n",
        "    return recommendations.head(num_recommendations)\n"
      ],
      "metadata": {
        "id": "OEsXeaJv7aWO"
      },
      "execution_count": 14,
      "outputs": []
    },
    {
      "cell_type": "code",
      "source": [
        "# -----------------------------\n",
        "# MODULE 6: Test the Recommendation\n",
        "# -----------------------------\n",
        "user_id = 1\n",
        "print(f\"\\n Recommended movies for User {user_id}:\")\n",
        "print(recommend_movies(user_id, num_recommendations=5))\n"
      ],
      "metadata": {
        "colab": {
          "base_uri": "https://localhost:8080/"
        },
        "id": "P-d7rGBx7aTe",
        "outputId": "41206236-3753-40b7-d56c-3e000d44590d"
      },
      "execution_count": 15,
      "outputs": [
        {
          "output_type": "stream",
          "name": "stdout",
          "text": [
            "\n",
            " Recommended movies for User 1:\n",
            "title\n",
            "Dr. Strangelove or: How I Learned to Stop Worrying and Love the Bomb (1963)    4.394938\n",
            "Stand by Me (1986)                                                             3.990886\n",
            "Heathers (1989)                                                                3.987280\n",
            "Speed (1994)                                                                   3.605775\n",
            "E.T. the Extra-Terrestrial (1982)                                              3.600460\n",
            "dtype: float64\n"
          ]
        }
      ]
    },
    {
      "cell_type": "code",
      "source": [
        "# -----------------------------\n",
        "# MODULE 7: Evaluate Model (Precision@K)\n",
        "# -----------------------------\n",
        "def precision_at_k(user_id, k=5):\n",
        "    recommendations = recommend_movies(user_id, num_recommendations=k)\n",
        "    user_rated_movies = user_movie_matrix.loc[user_id].dropna().index\n",
        "\n",
        "    # Convert to binary (1 = relevant, 0 = not relevant)\n",
        "    y_true = [1 if movie in user_rated_movies else 0 for movie in recommendations.index]\n",
        "    y_pred = [1]*len(y_true)\n",
        "\n",
        "    if len(y_true) == 0:\n",
        "        return 0\n",
        "    return precision_score(y_true, y_pred)\n",
        "\n",
        "precision = precision_at_k(1, k=5)\n",
        "print(f\"\\nPrecision@5 for User 1: {precision:.2f}\")\n"
      ],
      "metadata": {
        "colab": {
          "base_uri": "https://localhost:8080/"
        },
        "id": "Vw5oQVkP7aQY",
        "outputId": "924de29a-c044-432d-f089-2fe385190ce0"
      },
      "execution_count": 16,
      "outputs": [
        {
          "output_type": "stream",
          "name": "stdout",
          "text": [
            "\n",
            "Precision@5 for User 1: 0.00\n"
          ]
        }
      ]
    },
    {
      "cell_type": "code",
      "source": [
        "# -----------------------------\n",
        "# MODULE 8: Save the Model\n",
        "# -----------------------------\n",
        "with open(\"user_similarity_model.pkl\", \"wb\") as file:\n",
        "    pickle.dump(user_similarity_df, file)\n",
        "\n",
        "print(\"\\n Model saved successfully as 'user_similarity_model.pkl'\")\n"
      ],
      "metadata": {
        "colab": {
          "base_uri": "https://localhost:8080/"
        },
        "id": "B9MRkrLp7aN-",
        "outputId": "6639400a-0884-4dfb-ada3-53c06eac16f6"
      },
      "execution_count": 17,
      "outputs": [
        {
          "output_type": "stream",
          "name": "stdout",
          "text": [
            "\n",
            " Model saved successfully as 'user_similarity_model.pkl'\n"
          ]
        }
      ]
    },
    {
      "cell_type": "code",
      "source": [
        "# -----------------------------\n",
        "# MODULE 9: Load Saved Model\n",
        "# -----------------------------\n",
        "with open(\"user_similarity_model.pkl\", \"rb\") as file:\n",
        "    loaded_model = pickle.load(file)\n",
        "\n",
        "print(\"\\n Model loaded successfully!\")\n"
      ],
      "metadata": {
        "colab": {
          "base_uri": "https://localhost:8080/"
        },
        "id": "ceJZtoQy7lJa",
        "outputId": "adc9480d-2f4b-4aa7-d5f2-7f25fe3c494a"
      },
      "execution_count": 18,
      "outputs": [
        {
          "output_type": "stream",
          "name": "stdout",
          "text": [
            "\n",
            " Model loaded successfully!\n"
          ]
        }
      ]
    },
    {
      "cell_type": "code",
      "source": [
        "# MODULE 10: Item-Based Collaborative Filtering\n",
        "# -----------------------------\n",
        "# Compute item-item similarity using cosine similarity on the transposed user-item matrix\n",
        "from sklearn.metrics.pairwise import cosine_similarity\n",
        "import pandas as pd\n",
        "import numpy as np\n",
        "\n",
        "item_similarity = cosine_similarity(user_movie_matrix_filled.T)\n",
        "item_similarity_df = pd.DataFrame(item_similarity, index=user_movie_matrix.columns, columns=user_movie_matrix.columns)\n",
        "print(\" Item Similarity Matrix computed!\")\n",
        "\n",
        "def recommend_movies_item_based(user_id, num_recommendations=5):\n",
        "    # Get movies rated by the user\n",
        "    user_ratings = user_movie_matrix.loc[user_id].dropna()\n",
        "\n",
        "    # Initialize recommendation scores\n",
        "    scores = pd.Series(0.0, index=user_movie_matrix.columns)\n",
        "\n",
        "    # For each movie rated by the user, add weighted similarity scores\n",
        "    for movie, rating in user_ratings.items():\n",
        "        similar_scores = item_similarity_df[movie]\n",
        "        scores += similar_scores * rating\n",
        "\n",
        "    # Remove movies the user has already rated\n",
        "    scores = scores.drop(user_ratings.index, errors='ignore')\n",
        "\n",
        "    # Return top N recommendations\n",
        "    return scores.sort_values(ascending=False).head(num_recommendations)\n",
        "\n",
        "# Test item-based recommendations\n",
        "user_id = 1\n",
        "print(f\"\\n Item-based recommended movies for User {user_id}:\")\n",
        "print(recommend_movies_item_based(user_id, num_recommendations=5))"
      ],
      "metadata": {
        "colab": {
          "base_uri": "https://localhost:8080/"
        },
        "id": "MDv-hkkd7lHM",
        "outputId": "de62a556-d3cc-43d2-a587-b41ffa7eaad0"
      },
      "execution_count": 20,
      "outputs": [
        {
          "output_type": "stream",
          "name": "stdout",
          "text": [
            " Item Similarity Matrix computed!\n",
            "\n",
            " Item-based recommended movies for User 1:\n",
            "title\n",
            "E.T. the Extra-Terrestrial (1982)    392.868044\n",
            "Stand by Me (1986)                   366.958476\n",
            "Speed (1994)                         366.715440\n",
            "Batman (1989)                        363.956465\n",
            "True Lies (1994)                     362.610997\n",
            "dtype: float64\n"
          ]
        }
      ]
    },
    {
      "cell_type": "code",
      "source": [
        "# MODULE 11: Matrix Factorization with SVD\n",
        "# -----------------------------\n",
        "from scipy.sparse.linalg import svds\n",
        "\n",
        "# Perform SVD on the user-item matrix\n",
        "# Fill NaN with 0 for SVD\n",
        "matrix = user_movie_matrix.fillna(0).values\n",
        "U, sigma, Vt = svds(matrix, k=50)  # k is the number of latent factors\n",
        "sigma = np.diag(sigma)\n",
        "\n",
        "# Reconstruct the predicted ratings matrix\n",
        "predicted_ratings = np.dot(np.dot(U, sigma), Vt)\n",
        "predicted_ratings_df = pd.DataFrame(predicted_ratings, index=user_movie_matrix.index, columns=user_movie_matrix.columns)\n",
        "print(\" SVD-based predicted ratings matrix computed!\")\n",
        "\n",
        "def recommend_movies_svd(user_id, num_recommendations=5):\n",
        "    # Get predicted ratings for the user\n",
        "    user_pred_ratings = predicted_ratings_df.loc[user_id]\n",
        "\n",
        "    # Remove movies the user has already rated\n",
        "    user_rated = user_movie_matrix.loc[user_id].dropna().index\n",
        "    recommendations = user_pred_ratings.drop(user_rated, errors='ignore').sort_values(ascending=False)\n",
        "\n",
        "    # Return top N recommendations\n",
        "    return recommendations.head(num_recommendations)\n",
        "\n",
        "# Test SVD-based recommendations\n",
        "user_id = 1\n",
        "print(f\"\\n SVD-based recommended movies for User {user_id}:\")\n",
        "print(recommend_movies_svd(user_id, num_recommendations=5))"
      ],
      "metadata": {
        "colab": {
          "base_uri": "https://localhost:8080/"
        },
        "id": "Yk3Bbq2dDmix",
        "outputId": "b0f3f593-ac6d-47d9-925a-93bc4ce1fd4c"
      },
      "execution_count": 21,
      "outputs": [
        {
          "output_type": "stream",
          "name": "stdout",
          "text": [
            " SVD-based predicted ratings matrix computed!\n",
            "\n",
            " SVD-based recommended movies for User 1:\n",
            "title\n",
            "E.T. the Extra-Terrestrial (1982)         3.512692\n",
            "Batman (1989)                             3.268929\n",
            "Dave (1993)                               2.968897\n",
            "Ulee's Gold (1997)                        2.906573\n",
            "One Flew Over the Cuckoo's Nest (1975)    2.759012\n",
            "Name: 1, dtype: float64\n"
          ]
        }
      ]
    },
    {
      "cell_type": "code",
      "source": [
        "# MODULE 12: Save Item-Based and SVD Models\n",
        "# -----------------------------\n",
        "import pickle\n",
        "\n",
        "with open(\"item_similarity_model.pkl\", \"wb\") as file:\n",
        "    pickle.dump(item_similarity_df, file)\n",
        "\n",
        "with open(\"svd_model.pkl\", \"wb\") as file:\n",
        "    pickle.dump({'U': U, 'sigma': sigma, 'Vt': Vt}, file)\n",
        "\n",
        "print(\"\\n Item-based and SVD models saved successfully!\")"
      ],
      "metadata": {
        "colab": {
          "base_uri": "https://localhost:8080/"
        },
        "id": "5OFXz3LpDtOL",
        "outputId": "f24fd5e7-8513-45dc-b5fa-7e16b104ef2a"
      },
      "execution_count": 22,
      "outputs": [
        {
          "output_type": "stream",
          "name": "stdout",
          "text": [
            "\n",
            " Item-based and SVD models saved successfully!\n"
          ]
        }
      ]
    },
    {
      "cell_type": "code",
      "source": [],
      "metadata": {
        "id": "joS-Vy8yDxuU"
      },
      "execution_count": null,
      "outputs": []
    }
  ]
}